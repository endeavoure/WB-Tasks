{
 "cells": [
  {
   "cell_type": "code",
   "execution_count": 115,
   "metadata": {},
   "outputs": [],
   "source": [
    "import warnings\n",
    "from typing import List, Optional"
   ]
  },
  {
   "cell_type": "code",
   "execution_count": 118,
   "metadata": {},
   "outputs": [],
   "source": [
    "def find_mode(numbers: List[int]) -> Optional[int]:\n",
    "    \"\"\"\n",
    "    Метод вычисляет моду среди элементов непустого списка целых чисел.\n",
    "    Возвращает моду - целое число.\n",
    "    Возвращает None и выводит warning, если:\n",
    "        На входе не List[int].\n",
    "        Список не состоит целиком из целых чисел.\n",
    "        Список пуст.\n",
    "        Все элементы имеют одинаковую частоту.\n",
    "    \"\"\"\n",
    "    if not isinstance(numbers, list):\n",
    "        warnings.warn(\"Входные данные не являются списком.\")\n",
    "        return None\n",
    "    \n",
    "    if not all(isinstance(i, int) for i in numbers):\n",
    "        warnings.warn(\"Список не содержит только целые числа.\")\n",
    "        return None\n",
    "    \n",
    "    if not numbers:\n",
    "        warnings.warn(\"Список пуст.\")\n",
    "        return None\n",
    "        \n",
    "    hashmap = {}\n",
    "    for el in numbers:\n",
    "        hashmap[el] = hashmap.get(el, 0) + 1\n",
    "        \n",
    "    max_freq = 0\n",
    "    max_key = 0\n",
    "    \n",
    "    for key, value in hashmap.items():\n",
    "        if value > max_freq:\n",
    "            max_freq = value\n",
    "            max_key = key\n",
    "    \n",
    "    if max_freq == 1:\n",
    "        warnings.warn(\"Все элементы списка встречаются с одинаковой частотой.\")\n",
    "        return None\n",
    "    \n",
    "    return max_key"
   ]
  }
 ],
 "metadata": {
  "kernelspec": {
   "display_name": "Python 3",
   "language": "python",
   "name": "python3"
  },
  "language_info": {
   "codemirror_mode": {
    "name": "ipython",
    "version": 3
   },
   "file_extension": ".py",
   "mimetype": "text/x-python",
   "name": "python",
   "nbconvert_exporter": "python",
   "pygments_lexer": "ipython3",
   "version": "3.11.8"
  }
 },
 "nbformat": 4,
 "nbformat_minor": 2
}
